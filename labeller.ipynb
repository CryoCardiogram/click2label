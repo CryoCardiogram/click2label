{
 "cells": [
  {
   "cell_type": "markdown",
   "metadata": {},
   "source": [
    "### Import ClickLabel and make an instance of the class\n"
   ]
  },
  {
   "cell_type": "code",
   "execution_count": null,
   "metadata": {},
   "outputs": [],
   "source": [
    "%matplotlib notebook \n",
    "from click2label import ClickLabel\n",
    "\n",
    "cl = ClickLabel(data_folder='data/',  # folder containing the images to label\n",
    "                result_path='labels/df.csv', # file to save the results to \n",
    "                label_options=['Cat meme', 'Dog meme'], # two labels for left & right click)\n",
    "                color_options=['red', 'blue'], # colors corresponding to the two labels\n",
    "                rows=2, # rows in each labelling grid\n",
    "                columns=4, # columns in each labelling grid\n",
    "                fontsize=10) # size of display text"
   ]
  },
  {
   "cell_type": "markdown",
   "metadata": {},
   "source": [
    "#### Call the labelling_grid method to display the next set of images, and save the labels from the previous set of images\n"
   ]
  },
  {
   "cell_type": "code",
   "execution_count": null,
   "metadata": {},
   "outputs": [],
   "source": [
    "cl.labelling_grid()"
   ]
  }
 ],
 "metadata": {
  "kernelspec": {
   "display_name": "Python 3",
   "language": "python",
   "name": "python3"
  },
  "language_info": {
   "codemirror_mode": {
    "name": "ipython",
    "version": 3
   },
   "file_extension": ".py",
   "mimetype": "text/x-python",
   "name": "python",
   "nbconvert_exporter": "python",
   "pygments_lexer": "ipython3",
   "version": "3.7.3"
  }
 },
 "nbformat": 4,
 "nbformat_minor": 2
}
